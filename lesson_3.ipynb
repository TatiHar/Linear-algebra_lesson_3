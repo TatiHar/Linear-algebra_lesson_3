{
 "cells": [
  {
   "cell_type": "markdown",
   "id": "44c4588f",
   "metadata": {},
   "source": [
    "1. Найдите собственные векторы и собственные значения для линейного оператора, заданного матрицей:"
   ]
  },
  {
   "cell_type": "code",
   "execution_count": 4,
   "id": "19c6eb8e",
   "metadata": {},
   "outputs": [],
   "source": [
    "import numpy as np\n",
    "\n",
    "np.set_printoptions(precision=2, suppress=True)"
   ]
  },
  {
   "cell_type": "code",
   "execution_count": 22,
   "id": "43256be6",
   "metadata": {
    "scrolled": true
   },
   "outputs": [
    {
     "name": "stdout",
     "output_type": "stream",
     "text": [
      "Матрица A:\n",
      "[[-1  2]\n",
      " [-6  6]]\n",
      "Собственные значения:\n",
      "[2. 3.]\n",
      "Собственные векторы:\n",
      "[[-0.55 -0.45]\n",
      " [-0.83 -0.89]]\n"
     ]
    }
   ],
   "source": [
    "a = np.array([[-1, 2], [-6, 6]])\n",
    "w, v = np.linalg.eig(a)\n",
    " \n",
    "print(f'Матрица A:\\n{a}')\n",
    "print(f'Собственные значения:\\n{w}')\n",
    "print(f'Собственные векторы:\\n{v}')"
   ]
  },
  {
   "cell_type": "markdown",
   "id": "1958e803",
   "metadata": {},
   "source": [
    "3. Установите, считается ли вектор  𝑥=(1,1)  собственным вектором этого линейного оператора."
   ]
  },
  {
   "cell_type": "code",
   "execution_count": 23,
   "id": "b3f18718",
   "metadata": {},
   "outputs": [
    {
     "name": "stdout",
     "output_type": "stream",
     "text": [
      "Матрица A:\n",
      "[[ 1  1]\n",
      " [-1  3]]\n",
      "Собственные значения:\n",
      "[2. 2.]\n",
      "Собственные векторы:\n",
      "[[ 0.71 -0.71]\n",
      " [ 0.71 -0.71]]\n"
     ]
    }
   ],
   "source": [
    "a = np.array([[1, 1], [-1, 3]])\n",
    "w, v = np.linalg.eig(a)\n",
    " \n",
    "print(f'Матрица A:\\n{a}')\n",
    "print(f'Собственные значения:\\n{w}')\n",
    "print(f'Собственные векторы:\\n{v}')"
   ]
  },
  {
   "cell_type": "markdown",
   "id": "e3e43741",
   "metadata": {},
   "source": [
    "Вектор 𝑥=(1,1) не является собственным вектором этого линейного оператора"
   ]
  },
  {
   "cell_type": "markdown",
   "id": "ffdb920e",
   "metadata": {},
   "source": [
    "2. Дан оператор поворота на 180 градусов, задаваемый матрицей."
   ]
  },
  {
   "cell_type": "code",
   "execution_count": 2,
   "id": "0fd58b82",
   "metadata": {},
   "outputs": [
    {
     "name": "stdout",
     "output_type": "stream",
     "text": [
      "[-1, 0]\n",
      "[0, -1]\n"
     ]
    }
   ],
   "source": [
    "def rotateMatrix(mat):\n",
    " \n",
    "    if not mat or not len(mat):\n",
    "        return\n",
    " \n",
    "    N = len(mat)\n",
    " \n",
    "    for i in range(N // 2):\n",
    "        for j in range(N):\n",
    "            temp = mat[i][j]\n",
    "            mat[i][j] = mat[N - i - 1][N - j - 1]\n",
    "            mat[N - i - 1][N - j - 1] = temp\n",
    " \n",
    "    if N % 2 == 1:\n",
    "        for j in range(N // 2):\n",
    "            temp = mat[N // 2][j]\n",
    "            mat[N // 2][j] = mat[N // 2][N - j - 1]\n",
    "            mat[N // 2][N - j - 1] = temp\n",
    " \n",
    " \n",
    "if __name__ == '__main__':\n",
    " \n",
    "    mat = [\n",
    "        [-1, 0],\n",
    "        [0, -1],\n",
    "    ]\n",
    " \n",
    "    rotateMatrix(mat)\n",
    " \n",
    "    for r in mat:\n",
    "        print(r)"
   ]
  },
  {
   "cell_type": "markdown",
   "id": "b246a7bc",
   "metadata": {},
   "source": [
    "Покажите, что любой вектор считается для него собственным."
   ]
  },
  {
   "cell_type": "code",
   "execution_count": 16,
   "id": "57d9f2a3",
   "metadata": {},
   "outputs": [
    {
     "name": "stdout",
     "output_type": "stream",
     "text": [
      "Матрица A:\n",
      "[[-1  0]\n",
      " [ 0 -1]]\n",
      "Собственные векторы:\n",
      "[[1. 0.]\n",
      " [0. 1.]]\n"
     ]
    }
   ],
   "source": [
    "r = np.array([[-1, 0], [0, -1]])\n",
    "w, v = np.linalg.eig(r)\n",
    " \n",
    "print(f'Матрица A:\\n{r}')\n",
    "print(f'Собственные векторы:\\n{v}')"
   ]
  },
  {
   "cell_type": "markdown",
   "id": "1ab80afc",
   "metadata": {},
   "source": [
    "4. Пусть линейный оператор задан матрицей"
   ]
  },
  {
   "cell_type": "code",
   "execution_count": 5,
   "id": "d5158bc7",
   "metadata": {},
   "outputs": [
    {
     "name": "stdout",
     "output_type": "stream",
     "text": [
      "Матрица A:\n",
      "[[0 3 0]\n",
      " [3 0 0]\n",
      " [0 0 3]]\n",
      "Собственные значения:\n",
      "[ 3. -3.  3.]\n",
      "Собственные векторы:\n",
      "[[ 0.71 -0.71  0.  ]\n",
      " [ 0.71  0.71  0.  ]\n",
      " [ 0.    0.    1.  ]]\n"
     ]
    }
   ],
   "source": [
    "a = np.array([[0, 3, 0], [3, 0, 0], [0, 0, 3]])\n",
    "w, v = np.linalg.eig(a)\n",
    " \n",
    "print(f'Матрица A:\\n{a}')\n",
    "print(f'Собственные значения:\\n{w}')\n",
    "print(f'Собственные векторы:\\n{v}')"
   ]
  }
 ],
 "metadata": {
  "kernelspec": {
   "display_name": "Python 3 (ipykernel)",
   "language": "python",
   "name": "python3"
  },
  "language_info": {
   "codemirror_mode": {
    "name": "ipython",
    "version": 3
   },
   "file_extension": ".py",
   "mimetype": "text/x-python",
   "name": "python",
   "nbconvert_exporter": "python",
   "pygments_lexer": "ipython3",
   "version": "3.9.7"
  }
 },
 "nbformat": 4,
 "nbformat_minor": 5
}
